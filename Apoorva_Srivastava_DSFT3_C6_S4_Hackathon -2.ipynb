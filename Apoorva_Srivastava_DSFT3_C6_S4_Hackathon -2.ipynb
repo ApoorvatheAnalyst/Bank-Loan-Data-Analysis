{
 "cells": [
  {
   "cell_type": "markdown",
   "id": "0a2c92dd",
   "metadata": {},
   "source": [
    "# Hackathon -2"
   ]
  },
  {
   "cell_type": "markdown",
   "id": "f71fbae1",
   "metadata": {},
   "source": [
    "# importing necessary libraries"
   ]
  },
  {
   "cell_type": "code",
   "execution_count": 1,
   "id": "3eb1d7f1",
   "metadata": {},
   "outputs": [],
   "source": [
    "import matplotlib.pyplot as plt\n",
    "from tabulate import tabulate\n",
    "import matplotlib as mat\n",
    "import seaborn as sns\n",
    "import pandas as pd\n",
    "import numpy as np"
   ]
  },
  {
   "cell_type": "markdown",
   "id": "a1999f2a",
   "metadata": {},
   "source": [
    "# Reading the data file"
   ]
  },
  {
   "cell_type": "code",
   "execution_count": 2,
   "id": "1680a1c3",
   "metadata": {},
   "outputs": [
    {
     "data": {
      "text/html": [
       "<div>\n",
       "<style scoped>\n",
       "    .dataframe tbody tr th:only-of-type {\n",
       "        vertical-align: middle;\n",
       "    }\n",
       "\n",
       "    .dataframe tbody tr th {\n",
       "        vertical-align: top;\n",
       "    }\n",
       "\n",
       "    .dataframe thead th {\n",
       "        text-align: right;\n",
       "    }\n",
       "</style>\n",
       "<table border=\"1\" class=\"dataframe\">\n",
       "  <thead>\n",
       "    <tr style=\"text-align: right;\">\n",
       "      <th></th>\n",
       "      <th>SK_ID_CURR</th>\n",
       "      <th>TARGET</th>\n",
       "      <th>NAME_CONTRACT_TYPE</th>\n",
       "      <th>GENDER</th>\n",
       "      <th>Car</th>\n",
       "      <th>House</th>\n",
       "      <th>CNT_CHILDREN</th>\n",
       "      <th>AMT_INCOME_TOTAL</th>\n",
       "      <th>AMT_CREDIT</th>\n",
       "      <th>AMT_GOODS_PRICE</th>\n",
       "      <th>...</th>\n",
       "      <th>DAYS_EMPLOYED</th>\n",
       "      <th>MOBILE</th>\n",
       "      <th>WORK_PHONE</th>\n",
       "      <th>HOME_PHONE</th>\n",
       "      <th>MOBILE_REACHABLE</th>\n",
       "      <th>FLAG_EMAIL</th>\n",
       "      <th>OCCUPATION_TYPE</th>\n",
       "      <th>CNT_FAM_MEMBERS</th>\n",
       "      <th>APPLICATION_DAY</th>\n",
       "      <th>TOTAL_DOC_SUBMITTED</th>\n",
       "    </tr>\n",
       "  </thead>\n",
       "  <tbody>\n",
       "    <tr>\n",
       "      <th>0</th>\n",
       "      <td>100002</td>\n",
       "      <td>1</td>\n",
       "      <td>Cash loans</td>\n",
       "      <td>M</td>\n",
       "      <td>N</td>\n",
       "      <td>Y</td>\n",
       "      <td>0</td>\n",
       "      <td>202500.0</td>\n",
       "      <td>406597.5</td>\n",
       "      <td>351000.0</td>\n",
       "      <td>...</td>\n",
       "      <td>-637</td>\n",
       "      <td>1</td>\n",
       "      <td>1</td>\n",
       "      <td>0</td>\n",
       "      <td>1</td>\n",
       "      <td>0</td>\n",
       "      <td>Laborers</td>\n",
       "      <td>1.0</td>\n",
       "      <td>WEDNESDAY</td>\n",
       "      <td>1</td>\n",
       "    </tr>\n",
       "    <tr>\n",
       "      <th>1</th>\n",
       "      <td>100003</td>\n",
       "      <td>0</td>\n",
       "      <td>Cash loans</td>\n",
       "      <td>F</td>\n",
       "      <td>N</td>\n",
       "      <td>N</td>\n",
       "      <td>0</td>\n",
       "      <td>270000.0</td>\n",
       "      <td>1293502.5</td>\n",
       "      <td>1129500.0</td>\n",
       "      <td>...</td>\n",
       "      <td>-1188</td>\n",
       "      <td>1</td>\n",
       "      <td>1</td>\n",
       "      <td>0</td>\n",
       "      <td>1</td>\n",
       "      <td>0</td>\n",
       "      <td>Core staff</td>\n",
       "      <td>2.0</td>\n",
       "      <td>MONDAY</td>\n",
       "      <td>1</td>\n",
       "    </tr>\n",
       "    <tr>\n",
       "      <th>2</th>\n",
       "      <td>100004</td>\n",
       "      <td>0</td>\n",
       "      <td>Revolving loans</td>\n",
       "      <td>M</td>\n",
       "      <td>Y</td>\n",
       "      <td>Y</td>\n",
       "      <td>0</td>\n",
       "      <td>67500.0</td>\n",
       "      <td>135000.0</td>\n",
       "      <td>135000.0</td>\n",
       "      <td>...</td>\n",
       "      <td>-225</td>\n",
       "      <td>1</td>\n",
       "      <td>1</td>\n",
       "      <td>1</td>\n",
       "      <td>1</td>\n",
       "      <td>0</td>\n",
       "      <td>Laborers</td>\n",
       "      <td>1.0</td>\n",
       "      <td>MONDAY</td>\n",
       "      <td>0</td>\n",
       "    </tr>\n",
       "    <tr>\n",
       "      <th>3</th>\n",
       "      <td>100006</td>\n",
       "      <td>0</td>\n",
       "      <td>Cash loans</td>\n",
       "      <td>F</td>\n",
       "      <td>N</td>\n",
       "      <td>Y</td>\n",
       "      <td>0</td>\n",
       "      <td>135000.0</td>\n",
       "      <td>312682.5</td>\n",
       "      <td>297000.0</td>\n",
       "      <td>...</td>\n",
       "      <td>-3039</td>\n",
       "      <td>1</td>\n",
       "      <td>1</td>\n",
       "      <td>0</td>\n",
       "      <td>1</td>\n",
       "      <td>0</td>\n",
       "      <td>Laborers</td>\n",
       "      <td>2.0</td>\n",
       "      <td>WEDNESDAY</td>\n",
       "      <td>1</td>\n",
       "    </tr>\n",
       "    <tr>\n",
       "      <th>4</th>\n",
       "      <td>100007</td>\n",
       "      <td>0</td>\n",
       "      <td>Cash loans</td>\n",
       "      <td>M</td>\n",
       "      <td>N</td>\n",
       "      <td>Y</td>\n",
       "      <td>0</td>\n",
       "      <td>121500.0</td>\n",
       "      <td>513000.0</td>\n",
       "      <td>513000.0</td>\n",
       "      <td>...</td>\n",
       "      <td>-3038</td>\n",
       "      <td>1</td>\n",
       "      <td>1</td>\n",
       "      <td>0</td>\n",
       "      <td>1</td>\n",
       "      <td>0</td>\n",
       "      <td>Core staff</td>\n",
       "      <td>1.0</td>\n",
       "      <td>THURSDAY</td>\n",
       "      <td>1</td>\n",
       "    </tr>\n",
       "    <tr>\n",
       "      <th>...</th>\n",
       "      <td>...</td>\n",
       "      <td>...</td>\n",
       "      <td>...</td>\n",
       "      <td>...</td>\n",
       "      <td>...</td>\n",
       "      <td>...</td>\n",
       "      <td>...</td>\n",
       "      <td>...</td>\n",
       "      <td>...</td>\n",
       "      <td>...</td>\n",
       "      <td>...</td>\n",
       "      <td>...</td>\n",
       "      <td>...</td>\n",
       "      <td>...</td>\n",
       "      <td>...</td>\n",
       "      <td>...</td>\n",
       "      <td>...</td>\n",
       "      <td>...</td>\n",
       "      <td>...</td>\n",
       "      <td>...</td>\n",
       "      <td>...</td>\n",
       "    </tr>\n",
       "    <tr>\n",
       "      <th>99995</th>\n",
       "      <td>216086</td>\n",
       "      <td>0</td>\n",
       "      <td>Cash loans</td>\n",
       "      <td>F</td>\n",
       "      <td>N</td>\n",
       "      <td>Y</td>\n",
       "      <td>1</td>\n",
       "      <td>157500.0</td>\n",
       "      <td>755190.0</td>\n",
       "      <td>675000.0</td>\n",
       "      <td>...</td>\n",
       "      <td>-232</td>\n",
       "      <td>1</td>\n",
       "      <td>1</td>\n",
       "      <td>1</td>\n",
       "      <td>1</td>\n",
       "      <td>0</td>\n",
       "      <td>Sales staff</td>\n",
       "      <td>3.0</td>\n",
       "      <td>MONDAY</td>\n",
       "      <td>1</td>\n",
       "    </tr>\n",
       "    <tr>\n",
       "      <th>99996</th>\n",
       "      <td>216087</td>\n",
       "      <td>0</td>\n",
       "      <td>Cash loans</td>\n",
       "      <td>F</td>\n",
       "      <td>N</td>\n",
       "      <td>Y</td>\n",
       "      <td>1</td>\n",
       "      <td>225000.0</td>\n",
       "      <td>284400.0</td>\n",
       "      <td>225000.0</td>\n",
       "      <td>...</td>\n",
       "      <td>-182</td>\n",
       "      <td>1</td>\n",
       "      <td>1</td>\n",
       "      <td>0</td>\n",
       "      <td>1</td>\n",
       "      <td>0</td>\n",
       "      <td>Managers</td>\n",
       "      <td>3.0</td>\n",
       "      <td>TUESDAY</td>\n",
       "      <td>1</td>\n",
       "    </tr>\n",
       "    <tr>\n",
       "      <th>99997</th>\n",
       "      <td>216088</td>\n",
       "      <td>0</td>\n",
       "      <td>Cash loans</td>\n",
       "      <td>F</td>\n",
       "      <td>Y</td>\n",
       "      <td>Y</td>\n",
       "      <td>0</td>\n",
       "      <td>135000.0</td>\n",
       "      <td>1262583.0</td>\n",
       "      <td>1102500.0</td>\n",
       "      <td>...</td>\n",
       "      <td>-4805</td>\n",
       "      <td>1</td>\n",
       "      <td>1</td>\n",
       "      <td>0</td>\n",
       "      <td>1</td>\n",
       "      <td>0</td>\n",
       "      <td>Sales staff</td>\n",
       "      <td>2.0</td>\n",
       "      <td>TUESDAY</td>\n",
       "      <td>1</td>\n",
       "    </tr>\n",
       "    <tr>\n",
       "      <th>99998</th>\n",
       "      <td>216089</td>\n",
       "      <td>0</td>\n",
       "      <td>Cash loans</td>\n",
       "      <td>F</td>\n",
       "      <td>Y</td>\n",
       "      <td>N</td>\n",
       "      <td>0</td>\n",
       "      <td>135000.0</td>\n",
       "      <td>225000.0</td>\n",
       "      <td>225000.0</td>\n",
       "      <td>...</td>\n",
       "      <td>-340</td>\n",
       "      <td>1</td>\n",
       "      <td>1</td>\n",
       "      <td>0</td>\n",
       "      <td>1</td>\n",
       "      <td>0</td>\n",
       "      <td>Sales staff</td>\n",
       "      <td>2.0</td>\n",
       "      <td>FRIDAY</td>\n",
       "      <td>2</td>\n",
       "    </tr>\n",
       "    <tr>\n",
       "      <th>99999</th>\n",
       "      <td>216090</td>\n",
       "      <td>0</td>\n",
       "      <td>Revolving loans</td>\n",
       "      <td>M</td>\n",
       "      <td>Y</td>\n",
       "      <td>Y</td>\n",
       "      <td>0</td>\n",
       "      <td>202500.0</td>\n",
       "      <td>337500.0</td>\n",
       "      <td>337500.0</td>\n",
       "      <td>...</td>\n",
       "      <td>-3230</td>\n",
       "      <td>1</td>\n",
       "      <td>1</td>\n",
       "      <td>1</td>\n",
       "      <td>1</td>\n",
       "      <td>0</td>\n",
       "      <td>Drivers</td>\n",
       "      <td>2.0</td>\n",
       "      <td>SATURDAY</td>\n",
       "      <td>0</td>\n",
       "    </tr>\n",
       "  </tbody>\n",
       "</table>\n",
       "<p>100000 rows × 24 columns</p>\n",
       "</div>"
      ],
      "text/plain": [
       "       SK_ID_CURR  TARGET NAME_CONTRACT_TYPE GENDER Car House  CNT_CHILDREN  \\\n",
       "0          100002       1         Cash loans      M   N     Y             0   \n",
       "1          100003       0         Cash loans      F   N     N             0   \n",
       "2          100004       0    Revolving loans      M   Y     Y             0   \n",
       "3          100006       0         Cash loans      F   N     Y             0   \n",
       "4          100007       0         Cash loans      M   N     Y             0   \n",
       "...           ...     ...                ...    ...  ..   ...           ...   \n",
       "99995      216086       0         Cash loans      F   N     Y             1   \n",
       "99996      216087       0         Cash loans      F   N     Y             1   \n",
       "99997      216088       0         Cash loans      F   Y     Y             0   \n",
       "99998      216089       0         Cash loans      F   Y     N             0   \n",
       "99999      216090       0    Revolving loans      M   Y     Y             0   \n",
       "\n",
       "       AMT_INCOME_TOTAL  AMT_CREDIT  AMT_GOODS_PRICE  ... DAYS_EMPLOYED  \\\n",
       "0              202500.0    406597.5         351000.0  ...          -637   \n",
       "1              270000.0   1293502.5        1129500.0  ...         -1188   \n",
       "2               67500.0    135000.0         135000.0  ...          -225   \n",
       "3              135000.0    312682.5         297000.0  ...         -3039   \n",
       "4              121500.0    513000.0         513000.0  ...         -3038   \n",
       "...                 ...         ...              ...  ...           ...   \n",
       "99995          157500.0    755190.0         675000.0  ...          -232   \n",
       "99996          225000.0    284400.0         225000.0  ...          -182   \n",
       "99997          135000.0   1262583.0        1102500.0  ...         -4805   \n",
       "99998          135000.0    225000.0         225000.0  ...          -340   \n",
       "99999          202500.0    337500.0         337500.0  ...         -3230   \n",
       "\n",
       "      MOBILE WORK_PHONE HOME_PHONE  MOBILE_REACHABLE  FLAG_EMAIL  \\\n",
       "0          1          1          0                 1           0   \n",
       "1          1          1          0                 1           0   \n",
       "2          1          1          1                 1           0   \n",
       "3          1          1          0                 1           0   \n",
       "4          1          1          0                 1           0   \n",
       "...      ...        ...        ...               ...         ...   \n",
       "99995      1          1          1                 1           0   \n",
       "99996      1          1          0                 1           0   \n",
       "99997      1          1          0                 1           0   \n",
       "99998      1          1          0                 1           0   \n",
       "99999      1          1          1                 1           0   \n",
       "\n",
       "       OCCUPATION_TYPE  CNT_FAM_MEMBERS  APPLICATION_DAY  TOTAL_DOC_SUBMITTED  \n",
       "0             Laborers              1.0        WEDNESDAY                    1  \n",
       "1           Core staff              2.0           MONDAY                    1  \n",
       "2             Laborers              1.0           MONDAY                    0  \n",
       "3             Laborers              2.0        WEDNESDAY                    1  \n",
       "4           Core staff              1.0         THURSDAY                    1  \n",
       "...                ...              ...              ...                  ...  \n",
       "99995      Sales staff              3.0           MONDAY                    1  \n",
       "99996         Managers              3.0          TUESDAY                    1  \n",
       "99997      Sales staff              2.0          TUESDAY                    1  \n",
       "99998      Sales staff              2.0           FRIDAY                    2  \n",
       "99999          Drivers              2.0         SATURDAY                    0  \n",
       "\n",
       "[100000 rows x 24 columns]"
      ]
     },
     "execution_count": 2,
     "metadata": {},
     "output_type": "execute_result"
    }
   ],
   "source": [
    "#reading csv file and displaying\n",
    "df=pd.read_csv(\"data_hackathon-2.csv\")\n",
    "df"
   ]
  },
  {
   "cell_type": "markdown",
   "id": "83238860",
   "metadata": {},
   "source": [
    "# Level 0 analysis"
   ]
  },
  {
   "cell_type": "markdown",
   "id": "47073ba6",
   "metadata": {},
   "source": [
    "# 1.Shape"
   ]
  },
  {
   "cell_type": "code",
   "execution_count": 3,
   "id": "5fed5fd1",
   "metadata": {},
   "outputs": [
    {
     "data": {
      "text/plain": [
       "(100000, 24)"
      ]
     },
     "execution_count": 3,
     "metadata": {},
     "output_type": "execute_result"
    }
   ],
   "source": [
    "df.shape"
   ]
  },
  {
   "cell_type": "markdown",
   "id": "69389d07",
   "metadata": {},
   "source": [
    "# 2.Null value counts"
   ]
  },
  {
   "cell_type": "code",
   "execution_count": 4,
   "id": "edff908b",
   "metadata": {},
   "outputs": [
    {
     "data": {
      "text/plain": [
       "SK_ID_CURR                 0\n",
       "TARGET                     0\n",
       "NAME_CONTRACT_TYPE         0\n",
       "GENDER                     0\n",
       "Car                        0\n",
       "House                      0\n",
       "CNT_CHILDREN               0\n",
       "AMT_INCOME_TOTAL           0\n",
       "AMT_CREDIT                 0\n",
       "AMT_GOODS_PRICE           81\n",
       "NAME_TYPE_SUITE          405\n",
       "NAME_INCOME_TYPE           0\n",
       "NAME_EDUCATION_TYPE        0\n",
       "NAME_FAMILY_STATUS         0\n",
       "DAYS_EMPLOYED              0\n",
       "MOBILE                     0\n",
       "WORK_PHONE                 0\n",
       "HOME_PHONE                 0\n",
       "MOBILE_REACHABLE           0\n",
       "FLAG_EMAIL                 0\n",
       "OCCUPATION_TYPE        31224\n",
       "CNT_FAM_MEMBERS            1\n",
       "APPLICATION_DAY            0\n",
       "TOTAL_DOC_SUBMITTED        0\n",
       "dtype: int64"
      ]
     },
     "execution_count": 4,
     "metadata": {},
     "output_type": "execute_result"
    }
   ],
   "source": [
    "df.isnull().sum()"
   ]
  },
  {
   "cell_type": "markdown",
   "id": "cca33d61",
   "metadata": {},
   "source": [
    "# 3.Column names"
   ]
  },
  {
   "cell_type": "code",
   "execution_count": 5,
   "id": "ae9e5881",
   "metadata": {},
   "outputs": [
    {
     "data": {
      "text/plain": [
       "Index(['SK_ID_CURR', 'TARGET', 'NAME_CONTRACT_TYPE', 'GENDER', 'Car', 'House',\n",
       "       'CNT_CHILDREN', 'AMT_INCOME_TOTAL', 'AMT_CREDIT', 'AMT_GOODS_PRICE',\n",
       "       'NAME_TYPE_SUITE', 'NAME_INCOME_TYPE', 'NAME_EDUCATION_TYPE',\n",
       "       'NAME_FAMILY_STATUS', 'DAYS_EMPLOYED', 'MOBILE', 'WORK_PHONE',\n",
       "       'HOME_PHONE', 'MOBILE_REACHABLE', 'FLAG_EMAIL', 'OCCUPATION_TYPE',\n",
       "       'CNT_FAM_MEMBERS', 'APPLICATION_DAY', 'TOTAL_DOC_SUBMITTED'],\n",
       "      dtype='object')"
      ]
     },
     "execution_count": 5,
     "metadata": {},
     "output_type": "execute_result"
    }
   ],
   "source": [
    "df.columns"
   ]
  },
  {
   "cell_type": "markdown",
   "id": "6449cf1c",
   "metadata": {},
   "source": [
    "# 4. info of the data file"
   ]
  },
  {
   "cell_type": "code",
   "execution_count": 6,
   "id": "eb0cc86e",
   "metadata": {},
   "outputs": [
    {
     "name": "stdout",
     "output_type": "stream",
     "text": [
      "<class 'pandas.core.frame.DataFrame'>\n",
      "RangeIndex: 100000 entries, 0 to 99999\n",
      "Data columns (total 24 columns):\n",
      " #   Column               Non-Null Count   Dtype  \n",
      "---  ------               --------------   -----  \n",
      " 0   SK_ID_CURR           100000 non-null  int64  \n",
      " 1   TARGET               100000 non-null  int64  \n",
      " 2   NAME_CONTRACT_TYPE   100000 non-null  object \n",
      " 3   GENDER               100000 non-null  object \n",
      " 4   Car                  100000 non-null  object \n",
      " 5   House                100000 non-null  object \n",
      " 6   CNT_CHILDREN         100000 non-null  int64  \n",
      " 7   AMT_INCOME_TOTAL     100000 non-null  float64\n",
      " 8   AMT_CREDIT           100000 non-null  float64\n",
      " 9   AMT_GOODS_PRICE      99919 non-null   float64\n",
      " 10  NAME_TYPE_SUITE      99595 non-null   object \n",
      " 11  NAME_INCOME_TYPE     100000 non-null  object \n",
      " 12  NAME_EDUCATION_TYPE  100000 non-null  object \n",
      " 13  NAME_FAMILY_STATUS   100000 non-null  object \n",
      " 14  DAYS_EMPLOYED        100000 non-null  int64  \n",
      " 15  MOBILE               100000 non-null  int64  \n",
      " 16  WORK_PHONE           100000 non-null  int64  \n",
      " 17  HOME_PHONE           100000 non-null  int64  \n",
      " 18  MOBILE_REACHABLE     100000 non-null  int64  \n",
      " 19  FLAG_EMAIL           100000 non-null  int64  \n",
      " 20  OCCUPATION_TYPE      68776 non-null   object \n",
      " 21  CNT_FAM_MEMBERS      99999 non-null   float64\n",
      " 22  APPLICATION_DAY      100000 non-null  object \n",
      " 23  TOTAL_DOC_SUBMITTED  100000 non-null  int64  \n",
      "dtypes: float64(4), int64(10), object(10)\n",
      "memory usage: 18.3+ MB\n"
     ]
    }
   ],
   "source": [
    "df.info()"
   ]
  },
  {
   "cell_type": "markdown",
   "id": "47a3ce18",
   "metadata": {},
   "source": [
    "# 5.Seperating numerical and categorical data"
   ]
  },
  {
   "cell_type": "code",
   "execution_count": 7,
   "id": "cf7d34da",
   "metadata": {},
   "outputs": [
    {
     "name": "stdout",
     "output_type": "stream",
     "text": [
      "categorical          numerical\n",
      "-------------------  ----------------\n",
      "TARGET               SK_ID_CURR\n",
      "NAME_CONTRACT_TYPE   AMT_INCOME_TOTAL\n",
      "GENDER               AMT_CREDIT\n",
      "Car                  AMT_GOODS_PRICE\n",
      "House                DAYS_EMPLOYED\n",
      "CNT_CHILDREN\n",
      "NAME_TYPE_SUITE\n",
      "NAME_INCOME_TYPE\n",
      "NAME_EDUCATION_TYPE\n",
      "NAME_FAMILY_STATUS\n",
      "MOBILE\n",
      "WORK_PHONE\n",
      "HOME_PHONE\n",
      "MOBILE_REACHABLE\n",
      "FLAG_EMAIL\n",
      "OCCUPATION_TYPE\n",
      "CNT_FAM_MEMBERS\n",
      "APPLICATION_DAY\n",
      "TOTAL_DOC_SUBMITTED\n"
     ]
    }
   ],
   "source": [
    "# creating a user defined function for seperating numerical or categorical data\n",
    "def seperate_data_types(df):\n",
    "    categorical=[]\n",
    "    numerical=[]\n",
    "    for column in df.columns:\n",
    "        if df[column].nunique()<100:\n",
    "            categorical.append(column)\n",
    "        else:\n",
    "            numerical.append(column)\n",
    "    return categorical,numerical\n",
    "categorical,numerical=seperate_data_types(df)\n",
    "\n",
    "# using tabulate to print the data\n",
    "from tabulate import tabulate\n",
    "table =[categorical,numerical]\n",
    "print(tabulate({\"categorical\":categorical,\"numerical\":numerical},headers =[\"categorical\",\"numerical\"]))"
   ]
  },
  {
   "cell_type": "markdown",
   "id": "a91efee8",
   "metadata": {},
   "source": [
    "here data is not in correct list hence we will remove and append it in correct list"
   ]
  },
  {
   "cell_type": "code",
   "execution_count": 8,
   "id": "7cc9a6e7",
   "metadata": {},
   "outputs": [],
   "source": [
    "categorical.remove(\"TARGET\")\n",
    "numerical.append(\"TARGET\")\n",
    "\n",
    "categorical.remove(\"CNT_CHILDREN\")\n",
    "numerical.append(\"CNT_CHILDREN\")\n",
    "\n",
    "categorical.remove(\"MOBILE\")\n",
    "numerical.append(\"MOBILE\")\n",
    "\n",
    "categorical.remove(\"WORK_PHONE\")\n",
    "numerical.append(\"WORK_PHONE\")\n",
    "\n",
    "categorical.remove(\"HOME_PHONE\")\n",
    "numerical.append(\"HOME_PHONE\")\n",
    "\n",
    "categorical.remove(\"MOBILE_REACHABLE\")\n",
    "numerical.append(\"MOBILE_REACHABLE\")\n",
    "\n",
    "categorical.remove(\"FLAG_EMAIL\")\n",
    "numerical.append(\"FLAG_EMAIL\")\n",
    "\n",
    "categorical.remove(\"CNT_FAM_MEMBERS\")\n",
    "numerical.append(\"CNT_FAM_MEMBERS\")\n",
    "\n",
    "categorical.remove(\"TOTAL_DOC_SUBMITTED\")\n",
    "numerical.append(\"TOTAL_DOC_SUBMITTED\")"
   ]
  },
  {
   "cell_type": "code",
   "execution_count": 9,
   "id": "3a071da5",
   "metadata": {},
   "outputs": [
    {
     "data": {
      "text/plain": [
       "['NAME_CONTRACT_TYPE',\n",
       " 'GENDER',\n",
       " 'Car',\n",
       " 'House',\n",
       " 'NAME_TYPE_SUITE',\n",
       " 'NAME_INCOME_TYPE',\n",
       " 'NAME_EDUCATION_TYPE',\n",
       " 'NAME_FAMILY_STATUS',\n",
       " 'OCCUPATION_TYPE',\n",
       " 'APPLICATION_DAY']"
      ]
     },
     "execution_count": 9,
     "metadata": {},
     "output_type": "execute_result"
    }
   ],
   "source": [
    "categorical"
   ]
  },
  {
   "cell_type": "code",
   "execution_count": 10,
   "id": "b325f0a3",
   "metadata": {},
   "outputs": [
    {
     "data": {
      "text/plain": [
       "['SK_ID_CURR',\n",
       " 'AMT_INCOME_TOTAL',\n",
       " 'AMT_CREDIT',\n",
       " 'AMT_GOODS_PRICE',\n",
       " 'DAYS_EMPLOYED',\n",
       " 'TARGET',\n",
       " 'CNT_CHILDREN',\n",
       " 'MOBILE',\n",
       " 'WORK_PHONE',\n",
       " 'HOME_PHONE',\n",
       " 'MOBILE_REACHABLE',\n",
       " 'FLAG_EMAIL',\n",
       " 'CNT_FAM_MEMBERS',\n",
       " 'TOTAL_DOC_SUBMITTED']"
      ]
     },
     "execution_count": 10,
     "metadata": {},
     "output_type": "execute_result"
    }
   ],
   "source": [
    "numerical"
   ]
  },
  {
   "cell_type": "code",
   "execution_count": 11,
   "id": "4dce39ee",
   "metadata": {},
   "outputs": [
    {
     "data": {
      "text/html": [
       "<div>\n",
       "<style scoped>\n",
       "    .dataframe tbody tr th:only-of-type {\n",
       "        vertical-align: middle;\n",
       "    }\n",
       "\n",
       "    .dataframe tbody tr th {\n",
       "        vertical-align: top;\n",
       "    }\n",
       "\n",
       "    .dataframe thead th {\n",
       "        text-align: right;\n",
       "    }\n",
       "</style>\n",
       "<table border=\"1\" class=\"dataframe\">\n",
       "  <thead>\n",
       "    <tr style=\"text-align: right;\">\n",
       "      <th></th>\n",
       "      <th>SK_ID_CURR</th>\n",
       "      <th>TARGET</th>\n",
       "      <th>NAME_CONTRACT_TYPE</th>\n",
       "      <th>GENDER</th>\n",
       "      <th>Car</th>\n",
       "      <th>House</th>\n",
       "      <th>CNT_CHILDREN</th>\n",
       "      <th>AMT_INCOME_TOTAL</th>\n",
       "      <th>AMT_CREDIT</th>\n",
       "      <th>AMT_GOODS_PRICE</th>\n",
       "      <th>...</th>\n",
       "      <th>DAYS_EMPLOYED</th>\n",
       "      <th>MOBILE</th>\n",
       "      <th>WORK_PHONE</th>\n",
       "      <th>HOME_PHONE</th>\n",
       "      <th>MOBILE_REACHABLE</th>\n",
       "      <th>FLAG_EMAIL</th>\n",
       "      <th>OCCUPATION_TYPE</th>\n",
       "      <th>CNT_FAM_MEMBERS</th>\n",
       "      <th>APPLICATION_DAY</th>\n",
       "      <th>TOTAL_DOC_SUBMITTED</th>\n",
       "    </tr>\n",
       "  </thead>\n",
       "  <tbody>\n",
       "  </tbody>\n",
       "</table>\n",
       "<p>0 rows × 24 columns</p>\n",
       "</div>"
      ],
      "text/plain": [
       "Empty DataFrame\n",
       "Columns: [SK_ID_CURR, TARGET, NAME_CONTRACT_TYPE, GENDER, Car, House, CNT_CHILDREN, AMT_INCOME_TOTAL, AMT_CREDIT, AMT_GOODS_PRICE, NAME_TYPE_SUITE, NAME_INCOME_TYPE, NAME_EDUCATION_TYPE, NAME_FAMILY_STATUS, DAYS_EMPLOYED, MOBILE, WORK_PHONE, HOME_PHONE, MOBILE_REACHABLE, FLAG_EMAIL, OCCUPATION_TYPE, CNT_FAM_MEMBERS, APPLICATION_DAY, TOTAL_DOC_SUBMITTED]\n",
       "Index: []\n",
       "\n",
       "[0 rows x 24 columns]"
      ]
     },
     "execution_count": 11,
     "metadata": {},
     "output_type": "execute_result"
    }
   ],
   "source": [
    "df[df.duplicated(keep=False)]"
   ]
  },
  {
   "cell_type": "markdown",
   "id": "620d1e02",
   "metadata": {},
   "source": [
    "# Level 1 Analysis (Univariate analysis)"
   ]
  },
  {
   "cell_type": "markdown",
   "id": "d66c33a5",
   "metadata": {},
   "source": [
    "# 1.categorical data"
   ]
  },
  {
   "cell_type": "code",
   "execution_count": 12,
   "id": "9e96ec18",
   "metadata": {},
   "outputs": [],
   "source": [
    "# creating a user defined function  for calculating mode, null values and unique values\n",
    "def info_of_cat(col):\n",
    "    print(f\"unique values in {col} are: {df[col].unique()}\")\n",
    "    print(f\"mode of {col} is {df[col].mode()[0]}\")\n",
    "    print(f\"number of missing values in {col} is {df[col].isnull().sum()}\")\n",
    "    if df[col].isnull().sum()>0:\n",
    "        print(f\"\\n there are null values in the{col} columns\")"
   ]
  },
  {
   "cell_type": "code",
   "execution_count": 13,
   "id": "a11010cc",
   "metadata": {},
   "outputs": [
    {
     "name": "stdout",
     "output_type": "stream",
     "text": [
      "unique values in NAME_CONTRACT_TYPE are: ['Cash loans' 'Revolving loans']\n",
      "mode of NAME_CONTRACT_TYPE is Cash loans\n",
      "number of missing values in NAME_CONTRACT_TYPE is 0\n"
     ]
    }
   ],
   "source": [
    "info_of_cat(\"NAME_CONTRACT_TYPE\")"
   ]
  },
  {
   "cell_type": "code",
   "execution_count": 14,
   "id": "90ff109f",
   "metadata": {},
   "outputs": [
    {
     "name": "stdout",
     "output_type": "stream",
     "text": [
      "unique values in GENDER are: ['M' 'F' 'XNA']\n",
      "mode of GENDER is F\n",
      "number of missing values in GENDER is 0\n"
     ]
    }
   ],
   "source": [
    "info_of_cat(\"GENDER\")"
   ]
  },
  {
   "cell_type": "code",
   "execution_count": 15,
   "id": "3ee671e5",
   "metadata": {},
   "outputs": [
    {
     "name": "stdout",
     "output_type": "stream",
     "text": [
      "unique values in Car are: ['N' 'Y']\n",
      "mode of Car is N\n",
      "number of missing values in Car is 0\n"
     ]
    }
   ],
   "source": [
    "info_of_cat(\"Car\")"
   ]
  },
  {
   "cell_type": "code",
   "execution_count": 16,
   "id": "ad52a07c",
   "metadata": {},
   "outputs": [
    {
     "name": "stdout",
     "output_type": "stream",
     "text": [
      "unique values in House are: ['Y' 'N']\n",
      "mode of House is Y\n",
      "number of missing values in House is 0\n"
     ]
    }
   ],
   "source": [
    "info_of_cat(\"House\")"
   ]
  },
  {
   "cell_type": "code",
   "execution_count": 17,
   "id": "277a2bc9",
   "metadata": {},
   "outputs": [
    {
     "name": "stdout",
     "output_type": "stream",
     "text": [
      "unique values in NAME_TYPE_SUITE are: ['Unaccompanied' 'Family' 'Spouse, partner' 'Children' 'Other_A' nan\n",
      " 'Other_B' 'Group of people']\n",
      "mode of NAME_TYPE_SUITE is Unaccompanied\n",
      "number of missing values in NAME_TYPE_SUITE is 405\n",
      "\n",
      " there are null values in theNAME_TYPE_SUITE columns\n"
     ]
    }
   ],
   "source": [
    "info_of_cat(\"NAME_TYPE_SUITE\")"
   ]
  },
  {
   "cell_type": "code",
   "execution_count": 18,
   "id": "b98174ff",
   "metadata": {},
   "outputs": [
    {
     "name": "stdout",
     "output_type": "stream",
     "text": [
      "unique values in NAME_INCOME_TYPE are: ['Working' 'State servant' 'Commercial associate' 'Pensioner' 'Unemployed'\n",
      " 'Student' 'Businessman' 'Maternity leave']\n",
      "mode of NAME_INCOME_TYPE is Working\n",
      "number of missing values in NAME_INCOME_TYPE is 0\n"
     ]
    }
   ],
   "source": [
    "info_of_cat(\"NAME_INCOME_TYPE\")"
   ]
  },
  {
   "cell_type": "code",
   "execution_count": 19,
   "id": "20db1a2a",
   "metadata": {},
   "outputs": [
    {
     "name": "stdout",
     "output_type": "stream",
     "text": [
      "unique values in NAME_EDUCATION_TYPE are: ['Secondary / secondary special' 'Higher education' 'Incomplete higher'\n",
      " 'Lower secondary' 'Academic degree']\n",
      "mode of NAME_EDUCATION_TYPE is Secondary / secondary special\n",
      "number of missing values in NAME_EDUCATION_TYPE is 0\n"
     ]
    }
   ],
   "source": [
    "info_of_cat(\"NAME_EDUCATION_TYPE\")"
   ]
  },
  {
   "cell_type": "code",
   "execution_count": 20,
   "id": "dce548a2",
   "metadata": {},
   "outputs": [
    {
     "name": "stdout",
     "output_type": "stream",
     "text": [
      "unique values in NAME_FAMILY_STATUS are: ['Single / not married' 'Married' 'Civil marriage' 'Widow' 'Separated'\n",
      " 'Unknown']\n",
      "mode of NAME_FAMILY_STATUS is Married\n",
      "number of missing values in NAME_FAMILY_STATUS is 0\n"
     ]
    }
   ],
   "source": [
    "info_of_cat(\"NAME_FAMILY_STATUS\")"
   ]
  },
  {
   "cell_type": "code",
   "execution_count": 21,
   "id": "cddae865",
   "metadata": {},
   "outputs": [
    {
     "name": "stdout",
     "output_type": "stream",
     "text": [
      "unique values in OCCUPATION_TYPE are: ['Laborers' 'Core staff' 'Accountants' 'Managers' nan 'Drivers'\n",
      " 'Sales staff' 'Cleaning staff' 'Cooking staff' 'Private service staff'\n",
      " 'Medicine staff' 'Security staff' 'High skill tech staff'\n",
      " 'Waiters/barmen staff' 'Low-skill Laborers' 'Realty agents' 'Secretaries'\n",
      " 'IT staff' 'HR staff']\n",
      "mode of OCCUPATION_TYPE is Laborers\n",
      "number of missing values in OCCUPATION_TYPE is 31224\n",
      "\n",
      " there are null values in theOCCUPATION_TYPE columns\n"
     ]
    }
   ],
   "source": [
    "info_of_cat(\"OCCUPATION_TYPE\")"
   ]
  },
  {
   "cell_type": "code",
   "execution_count": 22,
   "id": "20e7e0dd",
   "metadata": {},
   "outputs": [
    {
     "name": "stdout",
     "output_type": "stream",
     "text": [
      "unique values in APPLICATION_DAY are: ['WEDNESDAY' 'MONDAY' 'THURSDAY' 'SUNDAY' 'SATURDAY' 'FRIDAY' 'TUESDAY']\n",
      "mode of APPLICATION_DAY is TUESDAY\n",
      "number of missing values in APPLICATION_DAY is 0\n"
     ]
    }
   ],
   "source": [
    "info_of_cat(\"APPLICATION_DAY\")"
   ]
  },
  {
   "cell_type": "code",
   "execution_count": 23,
   "id": "ea65c189",
   "metadata": {},
   "outputs": [],
   "source": [
    "# creating a user defined function for numerical data\n",
    "def info_of_numerical(col):\n",
    "    print(f\" the mean of {col} is {df[col].mean()}\")\n",
    "    print(f\" the median of {col} is {df[col].median()}\")\n",
    "    print(f\" the mode of {col} is {df[col].mode()}\")\n",
    "    print(f\" the standard deviation of {col} is {df[col].std()}\")\n",
    "    print(f\" the no of missing values for  {col} is {df[col].isnull().sum()}\")"
   ]
  },
  {
   "cell_type": "code",
   "execution_count": 24,
   "id": "0f7ab87d",
   "metadata": {},
   "outputs": [
    {
     "name": "stdout",
     "output_type": "stream",
     "text": [
      "\n",
      " The column is SK_ID_CURR\n",
      " the mean of SK_ID_CURR is 158006.14086\n",
      " the median of SK_ID_CURR is 157877.0\n",
      " the mode of SK_ID_CURR is 0        100002\n",
      "1        100003\n",
      "2        100004\n",
      "3        100006\n",
      "4        100007\n",
      "          ...  \n",
      "99995    216086\n",
      "99996    216087\n",
      "99997    216088\n",
      "99998    216089\n",
      "99999    216090\n",
      "Length: 100000, dtype: int64\n",
      " the standard deviation of SK_ID_CURR is 33481.16699608501\n",
      " the no of missing values for  SK_ID_CURR is 0\n",
      "\n",
      " The column is AMT_INCOME_TOTAL\n",
      " the mean of AMT_INCOME_TOTAL is 169426.07027325002\n",
      " the median of AMT_INCOME_TOTAL is 144000.0\n",
      " the mode of AMT_INCOME_TOTAL is 0    135000.0\n",
      "dtype: float64\n",
      " the standard deviation of AMT_INCOME_TOTAL is 383500.74427718896\n",
      " the no of missing values for  AMT_INCOME_TOTAL is 0\n",
      "\n",
      " The column is AMT_CREDIT\n",
      " the mean of AMT_CREDIT is 599003.4465\n",
      " the median of AMT_CREDIT is 513040.5\n",
      " the mode of AMT_CREDIT is 0    450000.0\n",
      "dtype: float64\n",
      " the standard deviation of AMT_CREDIT is 402051.9591213264\n",
      " the no of missing values for  AMT_CREDIT is 0\n",
      "\n",
      " The column is AMT_GOODS_PRICE\n",
      " the mean of AMT_GOODS_PRICE is 538345.1489706662\n",
      " the median of AMT_GOODS_PRICE is 450000.0\n",
      " the mode of AMT_GOODS_PRICE is 0    450000.0\n",
      "dtype: float64\n",
      " the standard deviation of AMT_GOODS_PRICE is 369397.7246421765\n",
      " the no of missing values for  AMT_GOODS_PRICE is 81\n",
      "\n",
      " The column is DAYS_EMPLOYED\n",
      " the mean of DAYS_EMPLOYED is 63292.22206\n",
      " the median of DAYS_EMPLOYED is -1219.0\n",
      " the mode of DAYS_EMPLOYED is 0    365243\n",
      "dtype: int64\n",
      " the standard deviation of DAYS_EMPLOYED is 140839.69729599176\n",
      " the no of missing values for  DAYS_EMPLOYED is 0\n",
      "\n",
      " The column is TARGET\n",
      " the mean of TARGET is 0.08093\n",
      " the median of TARGET is 0.0\n",
      " the mode of TARGET is 0    0\n",
      "dtype: int64\n",
      " the standard deviation of TARGET is 0.2727289476951945\n",
      " the no of missing values for  TARGET is 0\n",
      "\n",
      " The column is CNT_CHILDREN\n",
      " the mean of CNT_CHILDREN is 0.41739\n",
      " the median of CNT_CHILDREN is 0.0\n",
      " the mode of CNT_CHILDREN is 0    0\n",
      "dtype: int64\n",
      " the standard deviation of CNT_CHILDREN is 0.7210137214425809\n",
      " the no of missing values for  CNT_CHILDREN is 0\n",
      "\n",
      " The column is MOBILE\n",
      " the mean of MOBILE is 0.99999\n",
      " the median of MOBILE is 1.0\n",
      " the mode of MOBILE is 0    1\n",
      "dtype: int64\n",
      " the standard deviation of MOBILE is 0.0031622776601694822\n",
      " the no of missing values for  MOBILE is 0\n",
      "\n",
      " The column is WORK_PHONE\n",
      " the mean of WORK_PHONE is 0.82128\n",
      " the median of WORK_PHONE is 1.0\n",
      " the mode of WORK_PHONE is 0    1\n",
      "dtype: int64\n",
      " the standard deviation of WORK_PHONE is 0.38311960196059996\n",
      " the no of missing values for  WORK_PHONE is 0\n",
      "\n",
      " The column is HOME_PHONE\n",
      " the mean of HOME_PHONE is 0.19974\n",
      " the median of HOME_PHONE is 0.0\n",
      " the mode of HOME_PHONE is 0    0\n",
      "dtype: int64\n",
      " the standard deviation of HOME_PHONE is 0.39980686694330536\n",
      " the no of missing values for  HOME_PHONE is 0\n",
      "\n",
      " The column is MOBILE_REACHABLE\n",
      " the mean of MOBILE_REACHABLE is 0.99799\n",
      " the median of MOBILE_REACHABLE is 1.0\n",
      " the mode of MOBILE_REACHABLE is 0    1\n",
      "dtype: int64\n",
      " the standard deviation of MOBILE_REACHABLE is 0.04478816763165192\n",
      " the no of missing values for  MOBILE_REACHABLE is 0\n",
      "\n",
      " The column is FLAG_EMAIL\n",
      " the mean of FLAG_EMAIL is 0.05619\n",
      " the median of FLAG_EMAIL is 0.0\n",
      " the mode of FLAG_EMAIL is 0    0\n",
      "dtype: int64\n",
      " the standard deviation of FLAG_EMAIL is 0.23028941406895756\n",
      " the no of missing values for  FLAG_EMAIL is 0\n",
      "\n",
      " The column is CNT_FAM_MEMBERS\n",
      " the mean of CNT_FAM_MEMBERS is 2.1556715567155673\n",
      " the median of CNT_FAM_MEMBERS is 2.0\n",
      " the mode of CNT_FAM_MEMBERS is 0    2.0\n",
      "dtype: float64\n",
      " the standard deviation of CNT_FAM_MEMBERS is 0.9088966556371371\n",
      " the no of missing values for  CNT_FAM_MEMBERS is 1\n",
      "\n",
      " The column is TOTAL_DOC_SUBMITTED\n",
      " the mean of TOTAL_DOC_SUBMITTED is 0.93121\n",
      " the median of TOTAL_DOC_SUBMITTED is 1.0\n",
      " the mode of TOTAL_DOC_SUBMITTED is 0    1\n",
      "dtype: int64\n",
      " the standard deviation of TOTAL_DOC_SUBMITTED is 0.3439173137416586\n",
      " the no of missing values for  TOTAL_DOC_SUBMITTED is 0\n"
     ]
    }
   ],
   "source": [
    "for i in numerical:\n",
    "    print(\"\\n The column is\",i)\n",
    "    info_of_numerical(i)\n",
    "    "
   ]
  },
  {
   "cell_type": "markdown",
   "id": "0ad17bbf",
   "metadata": {},
   "source": [
    "# Checking outliers"
   ]
  },
  {
   "cell_type": "code",
   "execution_count": 25,
   "id": "54b9208c",
   "metadata": {},
   "outputs": [
    {
     "name": "stdout",
     "output_type": "stream",
     "text": [
      "row and columns before removing outliers (100000, 24)\n",
      "wait till the shape after removing outliers is printed....\n",
      "i is  DAYS_EMPLOYED\n",
      "the lower range of DAYS_EMPLOYED is -6458.5\n",
      "the upper range of DAYS_EMPLOYED is 3409.5\n",
      "total outlier in  DAYS_EMPLOYED are 23451\n",
      "*****************************************************\n",
      "i is  AMT_GOODS_PRICE\n",
      "the lower range of AMT_GOODS_PRICE is nan\n",
      "the upper range of AMT_GOODS_PRICE is nan\n",
      "total outlier in  AMT_GOODS_PRICE are 0\n",
      "*****************************************************\n",
      "i is  AMT_CREDIT\n",
      "the lower range of AMT_CREDIT is -537975.0\n",
      "the upper range of AMT_CREDIT is 1616625.0\n",
      "total outlier in  AMT_CREDIT are 2155\n",
      "*****************************************************\n",
      "i is  AMT_INCOME_TOTAL\n",
      "the lower range of AMT_INCOME_TOTAL is -22500.0\n",
      "the upper range of AMT_INCOME_TOTAL is 337500.0\n",
      "total outlier in  AMT_INCOME_TOTAL are 4571\n",
      "*****************************************************\n"
     ]
    }
   ],
   "source": [
    "sldf=pd.read_csv(\"data_hackathon-2.csv\")\n",
    "print(\"row and columns before removing outliers\",sldf.shape)\n",
    "print(\"wait till the shape after removing outliers is printed....\")\n",
    "\n",
    "def myoutlier(sldf,col):\n",
    "    #print(len(newdf))\n",
    "    Q3=np.quantile(sldf[col],0.75)\n",
    "    Q1=np.quantile(sldf[col],0.25)\n",
    "    \n",
    "    IQR=Q3-Q1\n",
    "    \n",
    "    global my_list\n",
    "    global my_outlier_df\n",
    "    \n",
    "    lower_range=Q1-1.5*IQR\n",
    "    upper_range=Q3+1.5*IQR\n",
    "    \n",
    "    print(\"the lower range of\",col,\"is\",lower_range)\n",
    "    print(\"the upper range of\",col,\"is\",upper_range)\n",
    "    \n",
    "    my_list=[x for x in sldf[col] if((x<lower_range)|(x>upper_range))]     # list comprehension\n",
    "    \n",
    "    print(\"total outlier in \",col,\"are\",len(my_list))\n",
    "    \n",
    "    my_outlier_df=sldf.loc[sldf[col].isin(my_list)]\n",
    "    \n",
    "k=[\"DAYS_EMPLOYED\",\"AMT_GOODS_PRICE\",\"AMT_CREDIT\",\"AMT_INCOME_TOTAL\"]\n",
    "\n",
    "\n",
    "for i in k:\n",
    "    print(\"i is \",i)\n",
    "    myoutlier(sldf,i)\n",
    "    print(\"*****************************************************\")"
   ]
  },
  {
   "cell_type": "code",
   "execution_count": 26,
   "id": "4c603885",
   "metadata": {},
   "outputs": [],
   "source": [
    "df1=df\n",
    "a=df[(df[\"AMT_CREDIT\"]<-537975.0)|(df[\"AMT_CREDIT\"]>1616625.0)]\n",
    "df1=df1.drop(a.index,axis=0)"
   ]
  },
  {
   "cell_type": "code",
   "execution_count": 27,
   "id": "95377a7d",
   "metadata": {},
   "outputs": [
    {
     "data": {
      "text/plain": [
       "(97845, 24)"
      ]
     },
     "execution_count": 27,
     "metadata": {},
     "output_type": "execute_result"
    }
   ],
   "source": [
    "df1.shape"
   ]
  },
  {
   "cell_type": "code",
   "execution_count": 28,
   "id": "77a99af5",
   "metadata": {},
   "outputs": [
    {
     "name": "stdout",
     "output_type": "stream",
     "text": [
      "0    89.832\n",
      "1     8.013\n",
      "Name: TARGET, dtype: float64\n"
     ]
    },
    {
     "data": {
      "image/png": "[encoded data removed]",
      "text/plain": [
       "<Figure size 720x504 with 1 Axes>"
      ]
     },
     "metadata": {
      "needs_background": "light"
     },
     "output_type": "display_data"
    }
   ],
   "source": [
    "print((df1[\"TARGET\"].value_counts()/len(df))*100)\n",
    "fig,ax=plt.subplots(figsize=(10,7))\n",
    "ax=sns.countplot(x=df1[\"TARGET\"])\n",
    "ax.set_xticklabels(ax.get_xticklabels(),rotation=40,ha=\"right\")\n",
    "\n",
    "count=len(df1[\"TARGET\"])\n",
    "for bar in ax.patches:\n",
    "    percentage=f\"{round((bar.get_height()/count)*100,2)}%\"\n",
    "    x=bar.get_x()+bar.get_width()/2\n",
    "    y=bar.get_height()\n",
    "    ax.annotate(percentage,(x,y),ha=\"center\",va=\"top\")\n",
    "    \n",
    "plt.show() "
   ]
  },
  {
   "cell_type": "markdown",
   "id": "41c46651",
   "metadata": {},
   "source": [
    "around 9% or 9000 clients have payment difficulties"
   ]
  },
  {
   "cell_type": "code",
   "execution_count": 29,
   "id": "de8825c4",
   "metadata": {},
   "outputs": [
    {
     "data": {
      "image/png": "[encoded data removed]",
      "text/plain": [
       "<Figure size 1080x504 with 1 Axes>"
      ]
     },
     "metadata": {
      "needs_background": "light"
     },
     "output_type": "display_data"
    }
   ],
   "source": [
    "fig,ax=plt.subplots(figsize=(15,7))\n",
    "sns.histplot(x=df1[\"AMT_CREDIT\"],ax=ax,bins=20)\n",
    "plt.show()"
   ]
  },
  {
   "cell_type": "markdown",
   "id": "4a5b746f",
   "metadata": {},
   "source": [
    "Maximum no of people have the credit limit from 0.1 to 0.9,Howeverthere are around 12000 clients those with amt credit of 0.3"
   ]
  },
  {
   "cell_type": "code",
   "execution_count": 30,
   "id": "9d5bd4e3",
   "metadata": {},
   "outputs": [],
   "source": [
    "c=df1[(df1[\"DAYS_EMPLOYED\"]<-6458.5)|(df1[\"DAYS_EMPLOYED\"]>3409.5)]\n",
    "df1=df1.drop(c.index,axis=0,errors=\"ignore\")"
   ]
  },
  {
   "cell_type": "code",
   "execution_count": 31,
   "id": "307f4a87",
   "metadata": {},
   "outputs": [
    {
     "data": {
      "image/png": "[encoded data removed]",
      "text/plain": [
       "<Figure size 1080x504 with 1 Axes>"
      ]
     },
     "metadata": {
      "needs_background": "light"
     },
     "output_type": "display_data"
    }
   ],
   "source": [
    "# distribution of area\n",
    "fig,ax=plt.subplots(figsize=(15,7))\n",
    "sns.histplot(x=df1[\"DAYS_EMPLOYED\"],ax=ax,bins=20)\n",
    "plt.show()"
   ]
  },
  {
   "cell_type": "markdown",
   "id": "1b72bebb",
   "metadata": {},
   "source": [
    "maximum clients are employed  for Less than 2000 days(approx 5 years) while there are less than 2000 clients with 4000(approx 10 years) and more days of employement"
   ]
  },
  {
   "cell_type": "code",
   "execution_count": 32,
   "id": "455f1c81",
   "metadata": {},
   "outputs": [],
   "source": [
    "b=df1[(df1[\"AMT_INCOME_TOTAL\"]<-22500.0)|(df1[\"AMT_INCOME_TOTAL\"]>337500.0)]\n",
    "df1=df1.drop(b.index,axis=0,errors=\"ignore\")"
   ]
  },
  {
   "cell_type": "code",
   "execution_count": 33,
   "id": "c789e5d3",
   "metadata": {},
   "outputs": [
    {
     "data": {
      "image/png": "[encoded data removed]",
      "text/plain": [
       "<Figure size 1080x504 with 2 Axes>"
      ]
     },
     "metadata": {
      "needs_background": "light"
     },
     "output_type": "display_data"
    }
   ],
   "source": [
    "\n",
    "fig,ax=plt.subplots(1,2,figsize=(15,7))\n",
    "sns.histplot(x=df1[\"AMT_INCOME_TOTAL\"],ax=ax[0],bins=20)\n",
    "sns.boxplot(x=df1[\"AMT_INCOME_TOTAL\"],ax=ax[1])\n",
    "plt.show()"
   ]
  },
  {
   "cell_type": "markdown",
   "id": "d6bf1088",
   "metadata": {},
   "source": [
    "Maximum clients have income between 80,000 to 120000 and 140000 to 180000"
   ]
  },
  {
   "cell_type": "code",
   "execution_count": 34,
   "id": "897eeba2",
   "metadata": {},
   "outputs": [
    {
     "name": "stdout",
     "output_type": "stream",
     "text": [
      "Laborers                 16.107\n",
      "Sales staff               9.895\n",
      "Core staff                7.394\n",
      "Drivers                   5.504\n",
      "Managers                  4.901\n",
      "High skill tech staff     3.020\n",
      "Accountants               2.770\n",
      "Medicine staff            2.214\n",
      "Security staff            2.065\n",
      "Cooking staff             1.793\n",
      "Cleaning staff            1.411\n",
      "Private service staff     0.767\n",
      "Low-skill Laborers        0.684\n",
      "Waiters/barmen staff      0.421\n",
      "Secretaries               0.348\n",
      "Realty agents             0.221\n",
      "HR staff                  0.152\n",
      "IT staff                  0.137\n",
      "Name: OCCUPATION_TYPE, dtype: float64\n"
     ]
    },
    {
     "data": {
      "image/png": "[encoded data removed]",
      "text/plain": [
       "<Figure size 720x504 with 1 Axes>"
      ]
     },
     "metadata": {
      "needs_background": "light"
     },
     "output_type": "display_data"
    }
   ],
   "source": [
    "\n",
    "print((df1[\"OCCUPATION_TYPE\"].value_counts()/len(df))*100)\n",
    "fig,ax=plt.subplots(figsize=(10,7))\n",
    "ax=sns.countplot(x=df1[\"OCCUPATION_TYPE\"])\n",
    "ax.set_xticklabels(ax.get_xticklabels(),rotation=40,ha=\"right\")\n",
    "\n",
    "count=len(df1[\"OCCUPATION_TYPE\"])\n",
    "for bar in ax.patches:\n",
    "    percentage=f\"{round((bar.get_height()/count)*100,2)}%\"\n",
    "    x=bar.get_x()+bar.get_width()/2\n",
    "    y=bar.get_height()\n",
    "    ax.annotate(percentage,(x,y),ha=\"center\",va=\"top\")\n",
    "    \n",
    "plt.show() "
   ]
  },
  {
   "cell_type": "markdown",
   "id": "b823d2f6",
   "metadata": {},
   "source": [
    "Most clients are from Laborers group And second category for clients is from sales ,on the third core staff"
   ]
  },
  {
   "cell_type": "code",
   "execution_count": 35,
   "id": "6dfcf4a3",
   "metadata": {},
   "outputs": [
    {
     "name": "stdout",
     "output_type": "stream",
     "text": [
      "Secondary / secondary special    50.285\n",
      "Higher education                 17.571\n",
      "Incomplete higher                 2.824\n",
      "Lower secondary                   0.666\n",
      "Academic degree                   0.033\n",
      "Name: NAME_EDUCATION_TYPE, dtype: float64\n"
     ]
    },
    {
     "data": {
      "image/png": "[encoded data removed]",
      "text/plain": [
       "<Figure size 720x504 with 1 Axes>"
      ]
     },
     "metadata": {
      "needs_background": "light"
     },
     "output_type": "display_data"
    }
   ],
   "source": [
    "print((df1[\"NAME_EDUCATION_TYPE\"].value_counts()/len(df))*100)\n",
    "fig,ax=plt.subplots(figsize=(10,7))\n",
    "ax=sns.countplot(x=df1[\"NAME_EDUCATION_TYPE\"])\n",
    "ax.set_xticklabels(ax.get_xticklabels(),rotation=40,ha=\"right\")\n",
    "\n",
    "count=len(df1[\"NAME_EDUCATION_TYPE\"])\n",
    "for bar in ax.patches:\n",
    "    percentage=f\"{round((bar.get_height()/count)*100,2)}%\"\n",
    "    x=bar.get_x()+bar.get_width()/2\n",
    "    y=bar.get_height()\n",
    "    ax.annotate(percentage,(x,y),ha=\"center\",va=\"top\")\n",
    "    \n",
    "plt.show() "
   ]
  },
  {
   "cell_type": "markdown",
   "id": "dc9c2056",
   "metadata": {},
   "source": [
    "most of the clients have min of secondary education"
   ]
  },
  {
   "cell_type": "code",
   "execution_count": 36,
   "id": "5eaa0acb",
   "metadata": {},
   "outputs": [
    {
     "name": "stdout",
     "output_type": "stream",
     "text": [
      "Working                 46.337\n",
      "Commercial associate    19.610\n",
      "State servant            5.420\n",
      "Student                  0.009\n",
      "Pensioner                0.002\n",
      "Businessman              0.001\n",
      "Name: NAME_INCOME_TYPE, dtype: float64\n"
     ]
    },
    {
     "data": {
      "image/png": "[encoded data removed]",
      "text/plain": [
       "<Figure size 720x504 with 1 Axes>"
      ]
     },
     "metadata": {
      "needs_background": "light"
     },
     "output_type": "display_data"
    }
   ],
   "source": [
    "print((df1[\"NAME_INCOME_TYPE\"].value_counts()/len(df))*100)\n",
    "fig,ax=plt.subplots(figsize=(10,7))\n",
    "ax=sns.countplot(x=df1[\"NAME_INCOME_TYPE\"])\n",
    "ax.set_xticklabels(ax.get_xticklabels(),rotation=40,ha=\"right\")\n",
    "\n",
    "count=len(df1[\"NAME_INCOME_TYPE\"])\n",
    "for bar in ax.patches:\n",
    "    percentage=f\"{round((bar.get_height()/count)*100,2)}%\"\n",
    "    x=bar.get_x()+bar.get_width()/2\n",
    "    y=bar.get_height()\n",
    "    ax.annotate(percentage,(x,y),ha=\"center\",va=\"top\")\n",
    "    \n",
    "plt.show() "
   ]
  },
  {
   "cell_type": "markdown",
   "id": "c71b71a3",
   "metadata": {},
   "source": [
    "Most of the income type for clients  is working "
   ]
  },
  {
   "cell_type": "code",
   "execution_count": 37,
   "id": "b5498d47",
   "metadata": {},
   "outputs": [
    {
     "name": "stdout",
     "output_type": "stream",
     "text": [
      "1    61.870\n",
      "0     7.522\n",
      "2     1.944\n",
      "3     0.042\n",
      "4     0.001\n",
      "Name: TOTAL_DOC_SUBMITTED, dtype: float64\n"
     ]
    },
    {
     "data": {
      "image/png": "[encoded data removed]",
      "text/plain": [
       "<Figure size 720x504 with 1 Axes>"
      ]
     },
     "metadata": {
      "needs_background": "light"
     },
     "output_type": "display_data"
    }
   ],
   "source": [
    "print((df1[\"TOTAL_DOC_SUBMITTED\"].value_counts()/len(df))*100)\n",
    "fig,ax=plt.subplots(figsize=(10,7))\n",
    "ax=sns.countplot(x=df1[\"TOTAL_DOC_SUBMITTED\"])\n",
    "ax.set_xticklabels(ax.get_xticklabels(),rotation=40,ha=\"right\")\n",
    "\n",
    "count=len(df1[\"TOTAL_DOC_SUBMITTED\"])\n",
    "for bar in ax.patches:\n",
    "    percentage=f\"{round((bar.get_height()/count)*100,2)}%\"\n",
    "    x=bar.get_x()+bar.get_width()/2\n",
    "    y=bar.get_height()\n",
    "    ax.annotate(percentage,(x,y),ha=\"center\",va=\"top\")\n",
    "    \n",
    "plt.show() "
   ]
  },
  {
   "cell_type": "markdown",
   "id": "ce369e78",
   "metadata": {},
   "source": [
    "10.91% of the candidates have not submitted any of documents"
   ]
  },
  {
   "cell_type": "markdown",
   "id": "2a81ffcd",
   "metadata": {},
   "source": []
  },
  {
   "cell_type": "markdown",
   "id": "fbd94508",
   "metadata": {},
   "source": [
    "# Level 2 analysis(Bivariate)"
   ]
  },
  {
   "cell_type": "code",
   "execution_count": 38,
   "id": "00b572ef",
   "metadata": {},
   "outputs": [
    {
     "data": {
      "image/png": "[encoded data removed]",
      "text/plain": [
       "<Figure size 1080x504 with 1 Axes>"
      ]
     },
     "metadata": {
      "needs_background": "light"
     },
     "output_type": "display_data"
    }
   ],
   "source": [
    "fig,ax=plt.subplots(figsize=(15,7))\n",
    "sns.histplot(x=df1[\"AMT_CREDIT\"],hue=df1[\"TARGET\"],ax=ax,bins=20)\n",
    "plt.show()"
   ]
  },
  {
   "cell_type": "markdown",
   "id": "ccfbd078",
   "metadata": {},
   "source": [
    "by the graph,the highest no of clients with target 1 is for amt credit of 0.3 and have maximum no of clients with target 0 also.\n",
    "the maximum clients are in the range 0.2 to 0.6  with target 0 and 1"
   ]
  },
  {
   "cell_type": "code",
   "execution_count": 39,
   "id": "b93a9fc3",
   "metadata": {},
   "outputs": [
    {
     "data": {
      "image/png": "[encoded data removed]",
      "text/plain": [
       "<Figure size 720x504 with 1 Axes>"
      ]
     },
     "metadata": {
      "needs_background": "light"
     },
     "output_type": "display_data"
    }
   ],
   "source": [
    "fig,ax=plt.subplots(figsize=(10,7))\n",
    "sns.countplot(x=\"NAME_INCOME_TYPE\",hue=\"TARGET\",data=df1)\n",
    "\n",
    "count=len(df1[\"NAME_INCOME_TYPE\"])\n",
    "for bar in ax.patches:\n",
    "    percentage=f\"{round((bar.get_height()/count)*100,2)}%\"\n",
    "    x=bar.get_x()+bar.get_width()/2\n",
    "    y=bar.get_height()\n",
    "    ax.annotate(percentage,(x,y),ha=\"center\",va=\"top\")\n",
    "plt.show()"
   ]
  },
  {
   "cell_type": "markdown",
   "id": "a80eeafb",
   "metadata": {},
   "source": [
    "the differences for income type of targets 0 and 1 are----\n",
    "\n",
    "Working=10.02%     state servent=6.32%      commercial associate=7.73%\n"
   ]
  },
  {
   "cell_type": "code",
   "execution_count": 40,
   "id": "0cb55cc4",
   "metadata": {},
   "outputs": [
    {
     "data": {
      "image/png": "[encoded data removed]",
      "text/plain": [
       "<Figure size 1080x504 with 1 Axes>"
      ]
     },
     "metadata": {
      "needs_background": "light"
     },
     "output_type": "display_data"
    }
   ],
   "source": [
    "fig,ax=plt.subplots(figsize=(15,7))\n",
    "sns.histplot(x=df1[\"DAYS_EMPLOYED\"],hue=df1[\"TARGET\"],ax=ax,bins=20)\n",
    "plt.show()"
   ]
  },
  {
   "cell_type": "markdown",
   "id": "6fda6aea",
   "metadata": {},
   "source": [
    "clients with less than 2000 days of working have highest ratio for target 1 (difficulties with the payment)"
   ]
  },
  {
   "cell_type": "code",
   "execution_count": 41,
   "id": "88e3c648",
   "metadata": {},
   "outputs": [
    {
     "data": {
      "image/png": "[encoded data removed]",
      "text/plain": [
       "<Figure size 1080x504 with 1 Axes>"
      ]
     },
     "metadata": {
      "needs_background": "light"
     },
     "output_type": "display_data"
    }
   ],
   "source": [
    "fig,ax=plt.subplots(figsize=(15,7))\n",
    "sns.histplot(x=df1[\"AMT_INCOME_TOTAL\"],hue=df1[\"TARGET\"],ax=ax,bins=5)\n",
    "plt.show()"
   ]
  },
  {
   "cell_type": "code",
   "execution_count": 42,
   "id": "d5856235",
   "metadata": {},
   "outputs": [
    {
     "data": {
      "image/png": "[encoded data removed]",
      "text/plain": [
       "<Figure size 720x504 with 1 Axes>"
      ]
     },
     "metadata": {
      "needs_background": "light"
     },
     "output_type": "display_data"
    }
   ],
   "source": [
    "fig,ax=plt.subplots(figsize=(10,7))\n",
    "sns.countplot(x=\"House\",hue=\"TARGET\",data=df1)\n",
    "plt.show()"
   ]
  },
  {
   "cell_type": "code",
   "execution_count": 43,
   "id": "f1a236fe",
   "metadata": {},
   "outputs": [
    {
     "data": {
      "image/png": "[encoded data removed]",
      "text/plain": [
       "<Figure size 720x504 with 1 Axes>"
      ]
     },
     "metadata": {
      "needs_background": "light"
     },
     "output_type": "display_data"
    }
   ],
   "source": [
    "fig,ax=plt.subplots(figsize=(10,7))\n",
    "sns.countplot(x=\"Car\",hue=\"TARGET\",data=df1)\n",
    "plt.show()"
   ]
  },
  {
   "cell_type": "markdown",
   "id": "b067076c",
   "metadata": {},
   "source": [
    "# Level 2 analysis (Multivariate Analysis)"
   ]
  },
  {
   "cell_type": "code",
   "execution_count": 44,
   "id": "27545bf3",
   "metadata": {},
   "outputs": [
    {
     "data": {
      "image/png": "[encoded data removed]",
      "text/plain": [
       "<Figure size 360x360 with 1 Axes>"
      ]
     },
     "metadata": {
      "needs_background": "light"
     },
     "output_type": "display_data"
    }
   ],
   "source": [
    "df1=df1.loc[(df1.TARGET==0)]\n",
    "sns.catplot(y=\"OCCUPATION_TYPE\",x=\"AMT_INCOME_TOTAL\",data=df1,ci=None,kind='bar',)\n",
    "plt.show()"
   ]
  },
  {
   "cell_type": "markdown",
   "id": "d756339f",
   "metadata": {},
   "source": [
    "AMT_INCOME_TOTAL>100000"
   ]
  },
  {
   "cell_type": "code",
   "execution_count": 45,
   "id": "ef486177",
   "metadata": {},
   "outputs": [
    {
     "data": {
      "image/png": "[encoded data removed]",
      "text/plain": [
       "<Figure size 360x360 with 1 Axes>"
      ]
     },
     "metadata": {
      "needs_background": "light"
     },
     "output_type": "display_data"
    }
   ],
   "source": [
    "df1=df1.loc[(df1.TARGET==0)]\n",
    "sns.catplot(x=\"AMT_CREDIT\",y=\"NAME_INCOME_TYPE\",data=df1,ci=None,kind='bar',)\n",
    "plt.show()"
   ]
  },
  {
   "cell_type": "markdown",
   "id": "f713b73e",
   "metadata": {},
   "source": [
    "amt_credit>200000"
   ]
  },
  {
   "cell_type": "code",
   "execution_count": 46,
   "id": "3c1f0ee4",
   "metadata": {},
   "outputs": [
    {
     "data": {
      "image/png": "[encoded data removed]",
      "text/plain": [
       "<Figure size 360x360 with 1 Axes>"
      ]
     },
     "metadata": {
      "needs_background": "light"
     },
     "output_type": "display_data"
    }
   ],
   "source": [
    "df1=df1.loc[(df1.TARGET==0)]\n",
    "sns.catplot(x=\"DAYS_EMPLOYED\",y=\"NAME_INCOME_TYPE\",data=df1,ci=None,kind='bar',)\n",
    "plt.show()"
   ]
  },
  {
   "cell_type": "markdown",
   "id": "d12619e0",
   "metadata": {},
   "source": [
    "days<-2000 and occupation- working"
   ]
  },
  {
   "cell_type": "code",
   "execution_count": 47,
   "id": "10cb0c3e",
   "metadata": {},
   "outputs": [
    {
     "data": {
      "image/png": "[encoded data removed]",
      "text/plain": [
       "<Figure size 360x360 with 1 Axes>"
      ]
     },
     "metadata": {
      "needs_background": "light"
     },
     "output_type": "display_data"
    }
   ],
   "source": [
    "df1=df1.loc[(df1.TARGET==0)]\n",
    "sns.catplot(x=\"DAYS_EMPLOYED\",y=\"OCCUPATION_TYPE\",data=df1,ci=None,kind='bar',)\n",
    "plt.show()"
   ]
  },
  {
   "cell_type": "code",
   "execution_count": null,
   "id": "cf04c81c",
   "metadata": {},
   "outputs": [],
   "source": []
  },
  {
   "cell_type": "code",
   "execution_count": null,
   "id": "3f63a227",
   "metadata": {},
   "outputs": [],
   "source": []
  },
  {
   "cell_type": "code",
   "execution_count": null,
   "id": "e5922890",
   "metadata": {},
   "outputs": [],
   "source": []
  },
  {
   "cell_type": "code",
   "execution_count": 48,
   "id": "a0839273",
   "metadata": {},
   "outputs": [
    {
     "name": "stderr",
     "output_type": "stream",
     "text": [
      "C:\\Users\\Win-10\\AppData\\Local\\Temp/ipykernel_8740/1699530880.py:1: UserWarning: Boolean Series key will be reindexed to match DataFrame index.\n",
      "  d=df1[(df1[\"AMT_CREDIT\"]>200000)&(df1[\"DAYS_EMPLOYED\"]<-2000)&(df[\"NAME_INCOME_TYPE\"]==\"Working\")&(df1[\"AMT_INCOME_TOTAL\"]>150000)&(df1[\"TOTAL_DOC_SUBMITTED\"]>=1)&(df[\"House\"]==\"Y\")|(df[\"Car\"]==\"Y\")]\n"
     ]
    }
   ],
   "source": [
    "d=df1[(df1[\"AMT_CREDIT\"]>200000)&(df1[\"DAYS_EMPLOYED\"]<-2000)&(df[\"NAME_INCOME_TYPE\"]==\"Working\")&(df1[\"AMT_INCOME_TOTAL\"]>150000)&(df1[\"TOTAL_DOC_SUBMITTED\"]>=1)&(df[\"House\"]==\"Y\")|(df[\"Car\"]==\"Y\")]"
   ]
  },
  {
   "cell_type": "code",
   "execution_count": 49,
   "id": "99b03aca",
   "metadata": {},
   "outputs": [
    {
     "data": {
      "text/html": [
       "<div>\n",
       "<style scoped>\n",
       "    .dataframe tbody tr th:only-of-type {\n",
       "        vertical-align: middle;\n",
       "    }\n",
       "\n",
       "    .dataframe tbody tr th {\n",
       "        vertical-align: top;\n",
       "    }\n",
       "\n",
       "    .dataframe thead th {\n",
       "        text-align: right;\n",
       "    }\n",
       "</style>\n",
       "<table border=\"1\" class=\"dataframe\">\n",
       "  <thead>\n",
       "    <tr style=\"text-align: right;\">\n",
       "      <th></th>\n",
       "      <th>SK_ID_CURR</th>\n",
       "      <th>TARGET</th>\n",
       "      <th>NAME_CONTRACT_TYPE</th>\n",
       "      <th>GENDER</th>\n",
       "      <th>Car</th>\n",
       "      <th>House</th>\n",
       "      <th>CNT_CHILDREN</th>\n",
       "      <th>AMT_INCOME_TOTAL</th>\n",
       "      <th>AMT_CREDIT</th>\n",
       "      <th>AMT_GOODS_PRICE</th>\n",
       "      <th>...</th>\n",
       "      <th>DAYS_EMPLOYED</th>\n",
       "      <th>MOBILE</th>\n",
       "      <th>WORK_PHONE</th>\n",
       "      <th>HOME_PHONE</th>\n",
       "      <th>MOBILE_REACHABLE</th>\n",
       "      <th>FLAG_EMAIL</th>\n",
       "      <th>OCCUPATION_TYPE</th>\n",
       "      <th>CNT_FAM_MEMBERS</th>\n",
       "      <th>APPLICATION_DAY</th>\n",
       "      <th>TOTAL_DOC_SUBMITTED</th>\n",
       "    </tr>\n",
       "  </thead>\n",
       "  <tbody>\n",
       "    <tr>\n",
       "      <th>2</th>\n",
       "      <td>100004</td>\n",
       "      <td>0</td>\n",
       "      <td>Revolving loans</td>\n",
       "      <td>M</td>\n",
       "      <td>Y</td>\n",
       "      <td>Y</td>\n",
       "      <td>0</td>\n",
       "      <td>67500.0</td>\n",
       "      <td>135000.0</td>\n",
       "      <td>135000.0</td>\n",
       "      <td>...</td>\n",
       "      <td>-225</td>\n",
       "      <td>1</td>\n",
       "      <td>1</td>\n",
       "      <td>1</td>\n",
       "      <td>1</td>\n",
       "      <td>0</td>\n",
       "      <td>Laborers</td>\n",
       "      <td>1.0</td>\n",
       "      <td>MONDAY</td>\n",
       "      <td>0</td>\n",
       "    </tr>\n",
       "    <tr>\n",
       "      <th>6</th>\n",
       "      <td>100009</td>\n",
       "      <td>0</td>\n",
       "      <td>Cash loans</td>\n",
       "      <td>F</td>\n",
       "      <td>Y</td>\n",
       "      <td>Y</td>\n",
       "      <td>1</td>\n",
       "      <td>171000.0</td>\n",
       "      <td>1560726.0</td>\n",
       "      <td>1395000.0</td>\n",
       "      <td>...</td>\n",
       "      <td>-3130</td>\n",
       "      <td>1</td>\n",
       "      <td>1</td>\n",
       "      <td>0</td>\n",
       "      <td>1</td>\n",
       "      <td>0</td>\n",
       "      <td>Accountants</td>\n",
       "      <td>3.0</td>\n",
       "      <td>SUNDAY</td>\n",
       "      <td>2</td>\n",
       "    </tr>\n",
       "    <tr>\n",
       "      <th>13</th>\n",
       "      <td>100017</td>\n",
       "      <td>0</td>\n",
       "      <td>Cash loans</td>\n",
       "      <td>M</td>\n",
       "      <td>Y</td>\n",
       "      <td>N</td>\n",
       "      <td>1</td>\n",
       "      <td>225000.0</td>\n",
       "      <td>918468.0</td>\n",
       "      <td>697500.0</td>\n",
       "      <td>...</td>\n",
       "      <td>-3028</td>\n",
       "      <td>1</td>\n",
       "      <td>1</td>\n",
       "      <td>0</td>\n",
       "      <td>1</td>\n",
       "      <td>0</td>\n",
       "      <td>Drivers</td>\n",
       "      <td>3.0</td>\n",
       "      <td>THURSDAY</td>\n",
       "      <td>1</td>\n",
       "    </tr>\n",
       "    <tr>\n",
       "      <th>15</th>\n",
       "      <td>100019</td>\n",
       "      <td>0</td>\n",
       "      <td>Cash loans</td>\n",
       "      <td>M</td>\n",
       "      <td>Y</td>\n",
       "      <td>Y</td>\n",
       "      <td>0</td>\n",
       "      <td>157500.0</td>\n",
       "      <td>299772.0</td>\n",
       "      <td>247500.0</td>\n",
       "      <td>...</td>\n",
       "      <td>-1157</td>\n",
       "      <td>1</td>\n",
       "      <td>1</td>\n",
       "      <td>0</td>\n",
       "      <td>1</td>\n",
       "      <td>0</td>\n",
       "      <td>Laborers</td>\n",
       "      <td>1.0</td>\n",
       "      <td>SATURDAY</td>\n",
       "      <td>1</td>\n",
       "    </tr>\n",
       "    <tr>\n",
       "      <th>20</th>\n",
       "      <td>100024</td>\n",
       "      <td>0</td>\n",
       "      <td>Revolving loans</td>\n",
       "      <td>M</td>\n",
       "      <td>Y</td>\n",
       "      <td>Y</td>\n",
       "      <td>0</td>\n",
       "      <td>135000.0</td>\n",
       "      <td>427500.0</td>\n",
       "      <td>427500.0</td>\n",
       "      <td>...</td>\n",
       "      <td>-4286</td>\n",
       "      <td>1</td>\n",
       "      <td>1</td>\n",
       "      <td>0</td>\n",
       "      <td>1</td>\n",
       "      <td>0</td>\n",
       "      <td>Laborers</td>\n",
       "      <td>2.0</td>\n",
       "      <td>FRIDAY</td>\n",
       "      <td>0</td>\n",
       "    </tr>\n",
       "    <tr>\n",
       "      <th>...</th>\n",
       "      <td>...</td>\n",
       "      <td>...</td>\n",
       "      <td>...</td>\n",
       "      <td>...</td>\n",
       "      <td>...</td>\n",
       "      <td>...</td>\n",
       "      <td>...</td>\n",
       "      <td>...</td>\n",
       "      <td>...</td>\n",
       "      <td>...</td>\n",
       "      <td>...</td>\n",
       "      <td>...</td>\n",
       "      <td>...</td>\n",
       "      <td>...</td>\n",
       "      <td>...</td>\n",
       "      <td>...</td>\n",
       "      <td>...</td>\n",
       "      <td>...</td>\n",
       "      <td>...</td>\n",
       "      <td>...</td>\n",
       "      <td>...</td>\n",
       "    </tr>\n",
       "    <tr>\n",
       "      <th>99991</th>\n",
       "      <td>216082</td>\n",
       "      <td>0</td>\n",
       "      <td>Cash loans</td>\n",
       "      <td>M</td>\n",
       "      <td>Y</td>\n",
       "      <td>N</td>\n",
       "      <td>2</td>\n",
       "      <td>270000.0</td>\n",
       "      <td>450000.0</td>\n",
       "      <td>450000.0</td>\n",
       "      <td>...</td>\n",
       "      <td>-5525</td>\n",
       "      <td>1</td>\n",
       "      <td>1</td>\n",
       "      <td>0</td>\n",
       "      <td>1</td>\n",
       "      <td>0</td>\n",
       "      <td>Managers</td>\n",
       "      <td>4.0</td>\n",
       "      <td>MONDAY</td>\n",
       "      <td>1</td>\n",
       "    </tr>\n",
       "    <tr>\n",
       "      <th>99994</th>\n",
       "      <td>216085</td>\n",
       "      <td>0</td>\n",
       "      <td>Cash loans</td>\n",
       "      <td>M</td>\n",
       "      <td>Y</td>\n",
       "      <td>N</td>\n",
       "      <td>0</td>\n",
       "      <td>225000.0</td>\n",
       "      <td>612000.0</td>\n",
       "      <td>612000.0</td>\n",
       "      <td>...</td>\n",
       "      <td>-135</td>\n",
       "      <td>1</td>\n",
       "      <td>1</td>\n",
       "      <td>0</td>\n",
       "      <td>1</td>\n",
       "      <td>0</td>\n",
       "      <td>Laborers</td>\n",
       "      <td>2.0</td>\n",
       "      <td>SATURDAY</td>\n",
       "      <td>1</td>\n",
       "    </tr>\n",
       "    <tr>\n",
       "      <th>99997</th>\n",
       "      <td>216088</td>\n",
       "      <td>0</td>\n",
       "      <td>Cash loans</td>\n",
       "      <td>F</td>\n",
       "      <td>Y</td>\n",
       "      <td>Y</td>\n",
       "      <td>0</td>\n",
       "      <td>135000.0</td>\n",
       "      <td>1262583.0</td>\n",
       "      <td>1102500.0</td>\n",
       "      <td>...</td>\n",
       "      <td>-4805</td>\n",
       "      <td>1</td>\n",
       "      <td>1</td>\n",
       "      <td>0</td>\n",
       "      <td>1</td>\n",
       "      <td>0</td>\n",
       "      <td>Sales staff</td>\n",
       "      <td>2.0</td>\n",
       "      <td>TUESDAY</td>\n",
       "      <td>1</td>\n",
       "    </tr>\n",
       "    <tr>\n",
       "      <th>99998</th>\n",
       "      <td>216089</td>\n",
       "      <td>0</td>\n",
       "      <td>Cash loans</td>\n",
       "      <td>F</td>\n",
       "      <td>Y</td>\n",
       "      <td>N</td>\n",
       "      <td>0</td>\n",
       "      <td>135000.0</td>\n",
       "      <td>225000.0</td>\n",
       "      <td>225000.0</td>\n",
       "      <td>...</td>\n",
       "      <td>-340</td>\n",
       "      <td>1</td>\n",
       "      <td>1</td>\n",
       "      <td>0</td>\n",
       "      <td>1</td>\n",
       "      <td>0</td>\n",
       "      <td>Sales staff</td>\n",
       "      <td>2.0</td>\n",
       "      <td>FRIDAY</td>\n",
       "      <td>2</td>\n",
       "    </tr>\n",
       "    <tr>\n",
       "      <th>99999</th>\n",
       "      <td>216090</td>\n",
       "      <td>0</td>\n",
       "      <td>Revolving loans</td>\n",
       "      <td>M</td>\n",
       "      <td>Y</td>\n",
       "      <td>Y</td>\n",
       "      <td>0</td>\n",
       "      <td>202500.0</td>\n",
       "      <td>337500.0</td>\n",
       "      <td>337500.0</td>\n",
       "      <td>...</td>\n",
       "      <td>-3230</td>\n",
       "      <td>1</td>\n",
       "      <td>1</td>\n",
       "      <td>1</td>\n",
       "      <td>1</td>\n",
       "      <td>0</td>\n",
       "      <td>Drivers</td>\n",
       "      <td>2.0</td>\n",
       "      <td>SATURDAY</td>\n",
       "      <td>0</td>\n",
       "    </tr>\n",
       "  </tbody>\n",
       "</table>\n",
       "<p>26336 rows × 24 columns</p>\n",
       "</div>"
      ],
      "text/plain": [
       "       SK_ID_CURR  TARGET NAME_CONTRACT_TYPE GENDER Car House  CNT_CHILDREN  \\\n",
       "2          100004       0    Revolving loans      M   Y     Y             0   \n",
       "6          100009       0         Cash loans      F   Y     Y             1   \n",
       "13         100017       0         Cash loans      M   Y     N             1   \n",
       "15         100019       0         Cash loans      M   Y     Y             0   \n",
       "20         100024       0    Revolving loans      M   Y     Y             0   \n",
       "...           ...     ...                ...    ...  ..   ...           ...   \n",
       "99991      216082       0         Cash loans      M   Y     N             2   \n",
       "99994      216085       0         Cash loans      M   Y     N             0   \n",
       "99997      216088       0         Cash loans      F   Y     Y             0   \n",
       "99998      216089       0         Cash loans      F   Y     N             0   \n",
       "99999      216090       0    Revolving loans      M   Y     Y             0   \n",
       "\n",
       "       AMT_INCOME_TOTAL  AMT_CREDIT  AMT_GOODS_PRICE  ... DAYS_EMPLOYED  \\\n",
       "2               67500.0    135000.0         135000.0  ...          -225   \n",
       "6              171000.0   1560726.0        1395000.0  ...         -3130   \n",
       "13             225000.0    918468.0         697500.0  ...         -3028   \n",
       "15             157500.0    299772.0         247500.0  ...         -1157   \n",
       "20             135000.0    427500.0         427500.0  ...         -4286   \n",
       "...                 ...         ...              ...  ...           ...   \n",
       "99991          270000.0    450000.0         450000.0  ...         -5525   \n",
       "99994          225000.0    612000.0         612000.0  ...          -135   \n",
       "99997          135000.0   1262583.0        1102500.0  ...         -4805   \n",
       "99998          135000.0    225000.0         225000.0  ...          -340   \n",
       "99999          202500.0    337500.0         337500.0  ...         -3230   \n",
       "\n",
       "      MOBILE WORK_PHONE HOME_PHONE  MOBILE_REACHABLE  FLAG_EMAIL  \\\n",
       "2          1          1          1                 1           0   \n",
       "6          1          1          0                 1           0   \n",
       "13         1          1          0                 1           0   \n",
       "15         1          1          0                 1           0   \n",
       "20         1          1          0                 1           0   \n",
       "...      ...        ...        ...               ...         ...   \n",
       "99991      1          1          0                 1           0   \n",
       "99994      1          1          0                 1           0   \n",
       "99997      1          1          0                 1           0   \n",
       "99998      1          1          0                 1           0   \n",
       "99999      1          1          1                 1           0   \n",
       "\n",
       "       OCCUPATION_TYPE  CNT_FAM_MEMBERS  APPLICATION_DAY  TOTAL_DOC_SUBMITTED  \n",
       "2             Laborers              1.0           MONDAY                    0  \n",
       "6          Accountants              3.0           SUNDAY                    2  \n",
       "13             Drivers              3.0         THURSDAY                    1  \n",
       "15            Laborers              1.0         SATURDAY                    1  \n",
       "20            Laborers              2.0           FRIDAY                    0  \n",
       "...                ...              ...              ...                  ...  \n",
       "99991         Managers              4.0           MONDAY                    1  \n",
       "99994         Laborers              2.0         SATURDAY                    1  \n",
       "99997      Sales staff              2.0          TUESDAY                    1  \n",
       "99998      Sales staff              2.0           FRIDAY                    2  \n",
       "99999          Drivers              2.0         SATURDAY                    0  \n",
       "\n",
       "[26336 rows x 24 columns]"
      ]
     },
     "execution_count": 49,
     "metadata": {},
     "output_type": "execute_result"
    }
   ],
   "source": [
    "d"
   ]
  },
  {
   "cell_type": "code",
   "execution_count": 50,
   "id": "36edb52a",
   "metadata": {},
   "outputs": [],
   "source": [
    "d.to_csv(\"Approved clients\")"
   ]
  },
  {
   "cell_type": "code",
   "execution_count": null,
   "id": "a1a0a529",
   "metadata": {},
   "outputs": [],
   "source": []
  },
  {
   "cell_type": "code",
   "execution_count": null,
   "id": "80837afb",
   "metadata": {},
   "outputs": [],
   "source": []
  },
  {
   "cell_type": "code",
   "execution_count": null,
   "id": "1045e2c0",
   "metadata": {},
   "outputs": [],
   "source": []
  },
  {
   "cell_type": "code",
   "execution_count": null,
   "id": "b86c99b0",
   "metadata": {},
   "outputs": [],
   "source": []
  },
  {
   "cell_type": "code",
   "execution_count": null,
   "id": "c369ace6",
   "metadata": {},
   "outputs": [],
   "source": []
  },
  {
   "cell_type": "code",
   "execution_count": null,
   "id": "b49ebf52",
   "metadata": {},
   "outputs": [],
   "source": []
  },
  {
   "cell_type": "code",
   "execution_count": null,
   "id": "2e6162ad",
   "metadata": {},
   "outputs": [],
   "source": []
  },
  {
   "cell_type": "code",
   "execution_count": null,
   "id": "bdd700d7",
   "metadata": {},
   "outputs": [],
   "source": []
  },
  {
   "cell_type": "code",
   "execution_count": null,
   "id": "85e8a741",
   "metadata": {},
   "outputs": [],
   "source": []
  },
  {
   "cell_type": "code",
   "execution_count": null,
   "id": "1e331ba3",
   "metadata": {},
   "outputs": [],
   "source": []
  },
  {
   "cell_type": "code",
   "execution_count": null,
   "id": "a4d1c0dc",
   "metadata": {},
   "outputs": [],
   "source": []
  }
 ],
 "metadata": {
  "kernelspec": {
   "display_name": "Python 3 (ipykernel)",
   "language": "python",
   "name": "python3"
  },
  "language_info": {
   "codemirror_mode": {
    "name": "ipython",
    "version": 3
   },
   "file_extension": ".py",
   "mimetype": "text/x-python",
   "name": "python",
   "nbconvert_exporter": "python",
   "pygments_lexer": "ipython3",
   "version": "3.9.7"
  }
 },
 "nbformat": 4,
 "nbformat_minor": 5
}
